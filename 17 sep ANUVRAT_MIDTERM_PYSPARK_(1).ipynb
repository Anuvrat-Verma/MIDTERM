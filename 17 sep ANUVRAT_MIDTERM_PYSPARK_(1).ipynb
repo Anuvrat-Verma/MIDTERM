{
  "nbformat": 4,
  "nbformat_minor": 0,
  "metadata": {
    "colab": {
      "provenance": []
    },
    "kernelspec": {
      "name": "python3",
      "display_name": "Python 3"
    },
    "language_info": {
      "name": "python"
    }
  },
  "cells": [
    {
      "cell_type": "code",
      "metadata": {
        "colab": {
          "base_uri": "https://localhost:8080/"
        },
        "id": "a9457ae9",
        "outputId": "c3ac7fd5-bcb1-4f0d-c514-3ec3c68bdf16"
      },
      "source": [
        "%pip install pyspark"
      ],
      "execution_count": null,
      "outputs": [
        {
          "output_type": "stream",
          "name": "stdout",
          "text": [
            "Requirement already satisfied: pyspark in /usr/local/lib/python3.12/dist-packages (3.5.1)\n",
            "Requirement already satisfied: py4j==0.10.9.7 in /usr/local/lib/python3.12/dist-packages (from pyspark) (0.10.9.7)\n"
          ]
        }
      ]
    },
    {
      "cell_type": "code",
      "metadata": {
        "id": "8477dc39"
      },
      "source": [
        "from pyspark.sql import SparkSession\n",
        "\n",
        "spark = SparkSession.builder.appName(\"OlympicDataAnalysis\").getOrCreate()"
      ],
      "execution_count": null,
      "outputs": []
    },
    {
      "cell_type": "code",
      "metadata": {
        "id": "d99b2d29"
      },
      "source": [
        "# Load data into RDDs\n",
        "athlete = spark.sparkContext.textFile('/content/athlete_events.csv',5)\n",
        "region = spark.sparkContext.textFile('/content/noc_regions.csv',5)\n"
      ],
      "execution_count": null,
      "outputs": []
    },
    {
      "cell_type": "markdown",
      "source": [
        "Rdd problems"
      ],
      "metadata": {
        "id": "zaBLmZNeqQ79"
      }
    },
    {
      "cell_type": "markdown",
      "source": [
        "Q1 How many olympics games have been held?"
      ],
      "metadata": {
        "id": "Gtod7kijqS85"
      }
    },
    {
      "cell_type": "code",
      "source": [
        "#ans 1\n",
        "games_count = athlete.map(lambda x: x[8]) \\\n",
        "                        .distinct() \\\n",
        "                        .count()\n",
        "print(games_count)"
      ],
      "metadata": {
        "colab": {
          "base_uri": "https://localhost:8080/"
        },
        "id": "ymXV3R3UHI5v",
        "outputId": "cd06a25d-6072-44c5-b751-edb4c5ff1aa7"
      },
      "execution_count": null,
      "outputs": [
        {
          "output_type": "stream",
          "name": "stdout",
          "text": [
            "55\n"
          ]
        }
      ]
    },
    {
      "cell_type": "markdown",
      "source": [
        "Q2 list down all olympic games held so far\n",
        "\n",
        "```\n",
        "# This is formatted as code\n",
        "```\n",
        "\n"
      ],
      "metadata": {
        "id": "ibXEhHffqXyY"
      }
    },
    {
      "cell_type": "code",
      "source": [
        "# ans 2\n",
        "athlete_header = athlete.first()\n",
        "athlete_rdd = athlete.filter(lambda line: line != athlete_header) \\\n",
        "                    .map(lambda line: line.split(',')) \\\n",
        "                    .map(lambda x: {\n",
        "                        'ID': x[0], 'Name': x[1], 'Sex': x[2], 'Age': x[3], 'Height': x[4],\n",
        "                        'Weight': x[5], 'Team': x[6], 'NOC': x[7], 'Games': x[8], 'Year': x[9],\n",
        "                        'Season': x[10], 'City': x[11], 'Sport': x[12], 'Event': x[13], 'Medal': x[14]\n",
        "                    })\n",
        "\n",
        "games_list = athlete_rdd.map(lambda x: x['Games']) \\\n",
        "                        .distinct()\n",
        "games_list.collect()"
      ],
      "metadata": {
        "colab": {
          "base_uri": "https://localhost:8080/"
        },
        "id": "fgqyTJwwJNje",
        "outputId": "be28837e-97d0-4a8a-81d9-59fb0d789dd6"
      },
      "execution_count": null,
      "outputs": [
        {
          "output_type": "execute_result",
          "data": {
            "text/plain": [
              "['\"2012 Summer\"',\n",
              " '\"1920 Summer\"',\n",
              " '\"1932 Summer\"',\n",
              " '\"1952 Summer\"',\n",
              " '\"2000 Summer\"',\n",
              " '\"1912 Summer\"',\n",
              " '\"1924 Summer\"',\n",
              " '\"1960 Winter\"',\n",
              " '\"1964 Winter\"',\n",
              " '\"1972 Summer\"',\n",
              " '\"1988 Summer\"',\n",
              " '\"1952 Winter\"',\n",
              " '\"1956 Winter\"',\n",
              " '\"1960 Summer\"',\n",
              " '\"1928 Summer\"',\n",
              " '\"1976 Summer\"',\n",
              " '\"1964 Summer\"',\n",
              " '\"2010 Winter\"',\n",
              " '\"1968 Winter\"',\n",
              " '\"1906 Summer\"',\n",
              " '\"1972 Winter\"',\n",
              " '\"USA\"',\n",
              " '\"1928 Winter\"',\n",
              " '\"1908 Summer\"',\n",
              " '\"1932 Winter\"',\n",
              " '\"GER\"',\n",
              " '\"PHI\"',\n",
              " '\"1896 Summer\"',\n",
              " '\"BOL\"',\n",
              " '\"Canada\"',\n",
              " '\"FSM\"',\n",
              " '\"HUN\"',\n",
              " '\"France\"',\n",
              " ' New York\"',\n",
              " '\"NZL\"',\n",
              " '\"UKR\"',\n",
              " '\"Unified Team\"',\n",
              " '\"JAM\"',\n",
              " '\"BRA\"',\n",
              " '\"ARG\"',\n",
              " '\"ISV\"',\n",
              " '\"CHI\"',\n",
              " '\"CUB\"',\n",
              " '\"ESP\"',\n",
              " '\"ECU\"',\n",
              " '\"Netherlands\"',\n",
              " '\"NOR\"',\n",
              " '\"SUI\"',\n",
              " '\"YUG\"',\n",
              " '\"PER\"',\n",
              " '\"ISR\"',\n",
              " '\"BOH\"',\n",
              " ' Hamburg-2\"',\n",
              " '\"Norway\"',\n",
              " '\"Czechoslovakia\"',\n",
              " '\"LAT\"',\n",
              " '\"Hungary\"',\n",
              " '\"SVK\"',\n",
              " '\"GUA\"',\n",
              " '\"COK\"',\n",
              " '\"FIJ\"',\n",
              " ' Chicago\"',\n",
              " '\"Germany\"',\n",
              " '\"East Germany\"',\n",
              " '\"ALB\"',\n",
              " '\"BLR\"',\n",
              " '\"Australia\"',\n",
              " '\"1992 Summer\"',\n",
              " '\"1900 Summer\"',\n",
              " '\"1988 Winter\"',\n",
              " '\"1992 Winter\"',\n",
              " '\"1994 Winter\"',\n",
              " '\"2002 Winter\"',\n",
              " '\"1980 Winter\"',\n",
              " '\"1996 Summer\"',\n",
              " '\"2014 Winter\"',\n",
              " '\"1948 Summer\"',\n",
              " '\"1998 Winter\"',\n",
              " '\"2006 Winter\"',\n",
              " '\"2008 Summer\"',\n",
              " '\"2016 Summer\"',\n",
              " '\"2004 Summer\"',\n",
              " '\"1984 Winter\"',\n",
              " '\"1984 Summer\"',\n",
              " '\"1968 Summer\"',\n",
              " '\"1936 Summer\"',\n",
              " '\"1956 Summer\"',\n",
              " '\"1980 Summer\"',\n",
              " '\"1976 Winter\"',\n",
              " '\"1924 Winter\"',\n",
              " '\"1904 Summer\"',\n",
              " '\"1948 Winter\"',\n",
              " '\"1936 Winter\"',\n",
              " '\"Belgium\"',\n",
              " '\"GRE\"',\n",
              " '\"FIN\"',\n",
              " '\"PUR\"',\n",
              " '\"DEN\"',\n",
              " '\"SWE\"',\n",
              " '\"FRA\"',\n",
              " '\"GBR\"',\n",
              " '\"ROU\"',\n",
              " '\"POL\"',\n",
              " '\"CAN\"',\n",
              " '\"AUT\"',\n",
              " '\"EUN\"',\n",
              " '\"CMR\"',\n",
              " '\"GUM\"',\n",
              " '\"BEL\"',\n",
              " '\"GDR\"',\n",
              " '\"RUS\"',\n",
              " '\"NED\"',\n",
              " '\"AUS\"',\n",
              " '\"TCH\"',\n",
              " '\"CZE\"',\n",
              " '\"HKG\"',\n",
              " '\"Great Britain\"',\n",
              " ' St Louis\"',\n",
              " '\"URS\"',\n",
              " '\"TUR\"',\n",
              " '\"United States\"',\n",
              " '\"FRG\"',\n",
              " '\"IOA\"',\n",
              " '\"LIE\"',\n",
              " '\"Poland\"',\n",
              " '\"BUL\"',\n",
              " ' Hamburg\"',\n",
              " '\"PAN\"',\n",
              " 'NA',\n",
              " '\"LUX\"',\n",
              " '\"LIB\"',\n",
              " '\"BER\"',\n",
              " '\"ITA\"',\n",
              " '\"ZIM\"',\n",
              " '\"MEX\"',\n",
              " '\"BAH\"',\n",
              " ' Brooklyn\"',\n",
              " '\"NGR\"',\n",
              " '\"Romania\"',\n",
              " '\"RSA\"',\n",
              " '\"THA\"',\n",
              " '\"IND\"',\n",
              " '\"PLW\"',\n",
              " '\"LTU\"']"
            ]
          },
          "metadata": {},
          "execution_count": 28
        }
      ]
    },
    {
      "cell_type": "markdown",
      "source": [
        "DATAFRAME PROBLEMS"
      ],
      "metadata": {
        "id": "6bcFbJ1hqcat"
      }
    },
    {
      "cell_type": "markdown",
      "source": [
        "**Partition By year, season  and store in Parquet**\n",
        "\n",
        "\n",
        "\n"
      ],
      "metadata": {
        "id": "CtgfqnZLoqNc"
      }
    },
    {
      "cell_type": "code",
      "source": [
        "athlete_events_df = spark.read.csv('/content/athlete_events.csv', header=True, inferSchema=True)\n",
        "noc_regions_df = spark.read.csv('/content/noc_regions.csv', header=True, inferSchema=True)\n",
        "athlete_events_df.repartition('Year', 'Season').write.partitionBy('Year', 'Season').parquet(\"/content/athlete_by_year_seas\")"
      ],
      "metadata": {
        "id": "HMlH--PVLl2N"
      },
      "execution_count": null,
      "outputs": []
    },
    {
      "cell_type": "code",
      "source": [],
      "metadata": {
        "id": "3Ipqx4aEz8BZ"
      },
      "execution_count": null,
      "outputs": []
    },
    {
      "cell_type": "markdown",
      "source": [
        "Q3) Mention the total no of nation participated in each olympic"
      ],
      "metadata": {
        "id": "BalC706Yz89X"
      }
    },
    {
      "cell_type": "code",
      "metadata": {
        "colab": {
          "base_uri": "https://localhost:8080/"
        },
        "id": "1c313454",
        "outputId": "d669aaeb-719c-4483-e0fb-1403fe356086"
      },
      "source": [
        "# ANS 3\n",
        "from pyspark.sql.functions import countDistinct\n",
        "nations_per_game_df = athlete_events_df.groupBy(\"Games\").agg(countDistinct(\"NOC\").alias(\"num_nations\"))\n",
        "print(\"Total number of nations participated in each Olympic game:\")\n",
        "nations_per_game_df.orderBy(\"Games\").show(truncate=False)"
      ],
      "execution_count": null,
      "outputs": [
        {
          "output_type": "stream",
          "name": "stdout",
          "text": [
            "Total number of nations participated in each Olympic game:\n",
            "+-----------+-----------+\n",
            "|Games      |num_nations|\n",
            "+-----------+-----------+\n",
            "|1896 Summer|12         |\n",
            "|1900 Summer|31         |\n",
            "|1904 Summer|15         |\n",
            "|1906 Summer|21         |\n",
            "|1908 Summer|22         |\n",
            "|1912 Summer|29         |\n",
            "|1920 Summer|29         |\n",
            "|1924 Summer|45         |\n",
            "|1924 Winter|19         |\n",
            "|1928 Summer|46         |\n",
            "|1928 Winter|25         |\n",
            "|1932 Summer|47         |\n",
            "|1932 Winter|17         |\n",
            "|1936 Summer|49         |\n",
            "|1936 Winter|28         |\n",
            "|1948 Summer|59         |\n",
            "|1948 Winter|28         |\n",
            "|1952 Summer|69         |\n",
            "|1952 Winter|30         |\n",
            "|1956 Summer|72         |\n",
            "+-----------+-----------+\n",
            "only showing top 20 rows\n",
            "\n"
          ]
        }
      ]
    },
    {
      "cell_type": "code",
      "source": [
        "Q4 Which year saw the highest and lowest no of countries participating in olympics?"
      ],
      "metadata": {
        "id": "0n_2nSRJqsIW"
      },
      "execution_count": null,
      "outputs": []
    },
    {
      "cell_type": "code",
      "source": [
        "# ANS 4\n",
        "from pyspark.sql.functions import max, min\n",
        "highest_participation = nations_per_game_df.orderBy(max(\"num_nations\"), ascending=False).limit(1)\n",
        "lowest_participation = nations_per_game_df.orderBy(min(\"num_nations\"), ascending=True).limit(1)\n",
        "print(\"Year with the highest number of nations participating:\")\n",
        "highest_participation.show(truncate=False)\n",
        "print(\"Year with the lowest number of nations participating:\")\n",
        "lowest_participation.show(truncate=False)"
      ],
      "metadata": {
        "colab": {
          "base_uri": "https://localhost:8080/"
        },
        "id": "fCg8Ecp_MklT",
        "outputId": "cbe7cd95-3ddc-485c-bd3e-c27a672a95f7"
      },
      "execution_count": null,
      "outputs": [
        {
          "output_type": "stream",
          "name": "stdout",
          "text": [
            "Year with the highest number of nations participating:\n",
            "+-----------+-----------+\n",
            "|Games      |num_nations|\n",
            "+-----------+-----------+\n",
            "|2016 Summer|207        |\n",
            "+-----------+-----------+\n",
            "\n",
            "Year with the lowest number of nations participating:\n",
            "+-----+-----------+\n",
            "|Games|num_nations|\n",
            "+-----+-----------+\n",
            "|JAM  |1          |\n",
            "+-----+-----------+\n",
            "\n"
          ]
        }
      ]
    },
    {
      "cell_type": "markdown",
      "source": [
        "Q5 Which nation has participated in all of the olympic games"
      ],
      "metadata": {
        "id": "ITQkMjjSrMq1"
      }
    },
    {
      "cell_type": "code",
      "source": [
        "from pyspark.sql.functions import countDistinct\n",
        "valid_games_df = athlete_events_df.filter(\n",
        "    (~athlete_events_df[\"Games\"].isin([\"USA\", \"GER\", \"PHI\", \"Canada\", \"FSM\", \"HUN\", \"France\", \" New York\", \"NZL\", \"UKR\", \"Unified Team\", \"JAM\", \"BRA\", \"ARG\", \"ISV\", \"CHI\", \"CUB\", \"ESP\", \"ECU\", \"Netherlands\", \"NOR\", \"SUI\", \"YUG\", \"PER\", \"ISR\", \"BOH\", \" Hamburg-2\", \"Norway\", \"Czechoslovakia\", \"LAT\", \"Hungary\", \"SVK\", \"GUA\", \"COK\", \"FIJ\", \" Chicago\", \"Germany\", \"East Germany\", \"ALB\", \"BLR\", \"Australia\", \"Belgium\", \"GRE\", \"FIN\", \"PUR\", \"DEN\", \"SWE\", \"FRA\", \"GBR\", \"ROU\", \"POL\", \"CAN\", \"AUT\", \"EUN\", \"CMR\", \"GUM\", \"BEL\", \"GDR\", \"RUS\", \"NED\", \"AUS\", \"TCH\", \"CZE\", \"HKG\", \"Great Britain\", \" St Louis\", \"URS\", \"TUR\", \"United States\", \"FRG\", \"IOA\", \"LIE\", \"Poland\", \"BUL\", \" Hamburg\", \"PAN\", \"NA\", \"LUX\", \"LIB\", \"BER\", \"ITA\", \"ZIM\", \"MEX\", \"BAH\", \" Brooklyn\", \"NGR\", \"Romania\", \"RSA\", \"THA\", \"IND\", \"PLW\", \"LTU\"]))\n",
        ")\n",
        "actual_unique_games_count = valid_games_df.agg(countDistinct(\"Games\")).collect()[0][0]\n",
        "games_per_nation_df = valid_games_df.groupBy(\"NOC\").agg(countDistinct(\"Games\").alias(\"games_count\"))\n",
        "nations_in_all_games = games_per_nation_df.filter(games_per_nation_df[\"games_count\"] == actual_unique_games_count)\n",
        "print(\"Nations that participated in all identified Olympic Games:\")\n",
        "nations_in_all_games.show(truncate=False)"
      ],
      "metadata": {
        "colab": {
          "base_uri": "https://localhost:8080/"
        },
        "id": "DxLzNqhhrN0I",
        "outputId": "819a2fb6-5a3f-4f0d-fbf4-42dd188df865"
      },
      "execution_count": null,
      "outputs": [
        {
          "output_type": "stream",
          "name": "stdout",
          "text": [
            "Nations that participated in all identified Olympic Games:\n",
            "+---+-----------+\n",
            "|NOC|games_count|\n",
            "+---+-----------+\n",
            "|FRA|51         |\n",
            "|ITA|51         |\n",
            "|GBR|51         |\n",
            "|SUI|51         |\n",
            "+---+-----------+\n",
            "\n"
          ]
        }
      ]
    },
    {
      "cell_type": "markdown",
      "source": [
        "Q6 Identify the sport which was played in all summer olympics."
      ],
      "metadata": {
        "id": "o67p5L04rjK6"
      }
    },
    {
      "cell_type": "code",
      "metadata": {
        "colab": {
          "base_uri": "https://localhost:8080/"
        },
        "id": "4eeb3597",
        "outputId": "aa6f907f-6df0-4190-e151-9071a0d0048a"
      },
      "source": [
        "summer_olympics_df = athlete_events_df.filter(athlete_events_df.Season == 'Summer')\n",
        "total_unique_summer_games_count = summer_olympics_df.agg(countDistinct(\"Games\")).collect()[0][0]\n",
        "summer_games_per_sport_df = summer_olympics_df.groupBy(\"Sport\").agg(countDistinct(\"Games\").alias(\"summer_games_count\"))\n",
        "sports_in_all_summer_games_df = summer_games_per_sport_df.filter(summer_games_per_sport_df.summer_games_count == total_unique_summer_games_count)\n",
        "print(f\"Sports played in all {total_unique_summer_games_count} Summer Olympic games:\")\n",
        "sports_in_all_summer_games_df.show(truncate=False)"
      ],
      "execution_count": null,
      "outputs": [
        {
          "output_type": "stream",
          "name": "stdout",
          "text": [
            "Sports played in all 29 Summer Olympic games:\n",
            "+----------+------------------+\n",
            "|Sport     |summer_games_count|\n",
            "+----------+------------------+\n",
            "|Gymnastics|29                |\n",
            "|Swimming  |29                |\n",
            "|Athletics |29                |\n",
            "|Cycling   |29                |\n",
            "|Fencing   |29                |\n",
            "+----------+------------------+\n",
            "\n"
          ]
        }
      ]
    },
    {
      "cell_type": "code",
      "source": [
        "Q7 Which Sports were just played only once in the olympics?"
      ],
      "metadata": {
        "id": "sg3ZWelMr59e"
      },
      "execution_count": null,
      "outputs": []
    },
    {
      "cell_type": "code",
      "metadata": {
        "colab": {
          "base_uri": "https://localhost:8080/"
        },
        "id": "48f9200d",
        "outputId": "8b105a93-0786-4e85-ba3c-e173b4ec176e"
      },
      "source": [
        "from pyspark.sql.functions import countDistinct\n",
        "\n",
        "games_count_per_sport_df = athlete_events_df.groupBy(\"Sport\").agg(countDistinct(\"Games\").alias(\"games_count\"))\n",
        "\n",
        "sports_played_once_df = games_count_per_sport_df.filter(games_count_per_sport_df.games_count == 1)\n",
        "\n",
        "print(\"Sports played only once in the Olympics:\")\n",
        "sports_played_once_df.show(truncate=False)"
      ],
      "execution_count": null,
      "outputs": [
        {
          "output_type": "stream",
          "name": "stdout",
          "text": [
            "Sports played only once in the Olympics:\n",
            "+-------------------+-----------+\n",
            "|Sport              |games_count|\n",
            "+-------------------+-----------+\n",
            "|Sarajevo           |1          |\n",
            "|Oslo               |1          |\n",
            "|Sochi              |1          |\n",
            "|Croquet            |1          |\n",
            "|Racquets           |1          |\n",
            "|Aeronautics        |1          |\n",
            "|Albertville        |1          |\n",
            "|Nagano             |1          |\n",
            "|Basque Pelota      |1          |\n",
            "|Rugby Sevens       |1          |\n",
            "|Roque              |1          |\n",
            "|Moskva             |1          |\n",
            "|Vancouver          |1          |\n",
            "|Cricket            |1          |\n",
            "|Military Ski Patrol|1          |\n",
            "|Torino             |1          |\n",
            "|Jeu De Paume       |1          |\n",
            "|Motorboating       |1          |\n",
            "+-------------------+-----------+\n",
            "\n"
          ]
        }
      ]
    },
    {
      "cell_type": "markdown",
      "source": [
        "Q 8 Fetch the total no of sports played in each olympic games.\n",
        "\n"
      ],
      "metadata": {
        "id": "IDLmzFLysPD2"
      }
    },
    {
      "cell_type": "code",
      "metadata": {
        "colab": {
          "base_uri": "https://localhost:8080/"
        },
        "id": "8348236d",
        "outputId": "f78c5694-72cb-4d8d-8e06-c1bc375b95e1"
      },
      "source": [
        "from pyspark.sql.functions import countDistinct\n",
        "sports_per_game_df = athlete_events_df.groupBy(\"Games\").agg(countDistinct(\"Sport\").alias(\"num_sports\"))\n",
        "print(\"Total number of sports played in each Olympic game:\")\n",
        "sports_per_game_df.orderBy(\"Games\").show(truncate=False)"
      ],
      "execution_count": null,
      "outputs": [
        {
          "output_type": "stream",
          "name": "stdout",
          "text": [
            "Total number of sports played in each Olympic game:\n",
            "+-----------+----------+\n",
            "|Games      |num_sports|\n",
            "+-----------+----------+\n",
            "|1896 Summer|9         |\n",
            "|1900 Summer|20        |\n",
            "|1904 Summer|18        |\n",
            "|1906 Summer|13        |\n",
            "|1908 Summer|24        |\n",
            "|1912 Summer|17        |\n",
            "|1920 Summer|25        |\n",
            "|1924 Summer|20        |\n",
            "|1924 Winter|10        |\n",
            "|1928 Summer|17        |\n",
            "|1928 Winter|8         |\n",
            "|1932 Summer|18        |\n",
            "|1932 Winter|7         |\n",
            "|1936 Summer|24        |\n",
            "|1936 Winter|8         |\n",
            "|1948 Summer|20        |\n",
            "|1948 Winter|9         |\n",
            "|1952 Summer|19        |\n",
            "|1952 Winter|8         |\n",
            "|1956 Summer|19        |\n",
            "+-----------+----------+\n",
            "only showing top 20 rows\n",
            "\n"
          ]
        }
      ]
    },
    {
      "cell_type": "code",
      "source": [
        "Q 9 Fetch details of the oldest athletes to win a gold medal.\n"
      ],
      "metadata": {
        "id": "cJtRVsjUsjAM"
      },
      "execution_count": null,
      "outputs": []
    },
    {
      "cell_type": "code",
      "source": [
        "from pyspark.sql.functions import max, col\n",
        "\n",
        "gold_medalists_df = athlete_events_df.filter(athlete_events_df.Medal == 'Gold')\n",
        "\n",
        "valid_age_gold_medalists_df = gold_medalists_df.filter(col(\"Age\").isNotNull() & (col(\"Age\") != 'NA'))\n",
        "\n",
        "max_age_row = valid_age_gold_medalists_df.agg(max(\"Age\")).collect()[0]\n",
        "max_age = max_age_row[\"max(Age)\"]\n",
        "\n",
        "oldest_gold_medalists_df = valid_age_gold_medalists_df.filter(col(\"Age\") == max_age)\n",
        "\n",
        "print(\"Details of the oldest gold medalists with valid age:\")\n",
        "oldest_gold_medalists_df.show(truncate=False)"
      ],
      "metadata": {
        "colab": {
          "base_uri": "https://localhost:8080/"
        },
        "id": "A_O3LhkvGlqD",
        "outputId": "d3ce4257-a18b-49d4-8567-5f7d1bd83961"
      },
      "execution_count": null,
      "outputs": [
        {
          "output_type": "stream",
          "name": "stdout",
          "text": [
            "Details of the oldest gold medalists with valid age:\n",
            "+------+-----------------+---+---+------+------+-------------+---+-----------+----+------+---------+--------+------------------------------------------------+-----+\n",
            "|ID    |Name             |Sex|Age|Height|Weight|Team         |NOC|Games      |Year|Season|City     |Sport   |Event                                           |Medal|\n",
            "+------+-----------------+---+---+------+------+-------------+---+-----------+----+------+---------+--------+------------------------------------------------+-----+\n",
            "|53238 |Charles Jacobus  |M  |64 |NA    |NA    |United States|USA|1904 Summer|1904|Summer|St. Louis|Roque   |Roque Men's Singles                             |Gold |\n",
            "|117046|Oscar Gomer Swahn|M  |64 |NA    |NA    |Sweden       |SWE|1912 Summer|1912|Summer|Stockholm|Shooting|Shooting Men's Running Target, Single Shot, Team|Gold |\n",
            "+------+-----------------+---+---+------+------+-------------+---+-----------+----+------+---------+--------+------------------------------------------------+-----+\n",
            "\n"
          ]
        }
      ]
    },
    {
      "cell_type": "code",
      "source": [
        "Q 10 Find the Ratio of male and female athletes participated in all olympic games."
      ],
      "metadata": {
        "id": "yjsFS7-itxM1"
      },
      "execution_count": null,
      "outputs": []
    },
    {
      "cell_type": "code",
      "source": [
        "from pyspark.sql.functions import count, col\n",
        "\n",
        "total_gender_counts_df = athlete_events_df.groupBy(\"Sex\").agg(count(\"*\").alias(\"count\"))\n",
        "\n",
        "gender_counts = total_gender_counts_df.collect()\n",
        "\n",
        "male_count = 0\n",
        "female_count = 0\n",
        "for row in gender_counts:\n",
        "    if row['Sex'] == 'M':\n",
        "        male_count = row['count']\n",
        "    elif row['Sex'] == 'F':\n",
        "        female_count = row['count']\n",
        "male_female_ratio = male_count / (female_count + 1)\n",
        "\n",
        "print(f\"Total Male Participants: {male_count}\")\n",
        "print(f\"Total Female Participants: {female_count}\")\n",
        "print(f\"Overall Male to Female Ratio: {male_female_ratio}\")"
      ],
      "metadata": {
        "colab": {
          "base_uri": "https://localhost:8080/"
        },
        "id": "os9ueq9GWPbj",
        "outputId": "528bf8f1-244a-4c48-d829-a898ac949db3"
      },
      "execution_count": null,
      "outputs": [
        {
          "output_type": "stream",
          "name": "stdout",
          "text": [
            "Total Male Participants: 196086\n",
            "Total Female Participants: 74357\n",
            "Overall Male to Female Ratio: 2.637053175179537\n"
          ]
        }
      ]
    },
    {
      "cell_type": "code",
      "source": [
        "Q 11 Fetch the top 5 athletes who have won the most gold medals"
      ],
      "metadata": {
        "id": "Y2bY2-lFt6xb"
      },
      "execution_count": null,
      "outputs": []
    },
    {
      "cell_type": "code",
      "source": [
        "from pyspark.sql.functions import count\n",
        "gold_medalists_df = athlete_events_df.filter(athlete_events_df.Medal == 'Gold')\n",
        "gold_medal_counts_df = gold_medalists_df.groupBy(\"ID\", \"Name\").agg(count(\"*\").alias(\"gold_medal_count\"))\n",
        "top_5_gold_medalists = gold_medal_counts_df.orderBy(\"gold_medal_count\", ascending=False).limit(5)\n",
        "print(\"Top 5 athletes with the most gold medals:\")\n",
        "top_5_gold_medalists.show(truncate=False)"
      ],
      "metadata": {
        "colab": {
          "base_uri": "https://localhost:8080/"
        },
        "id": "hj_aDMEcW5vT",
        "outputId": "35a8807f-151e-4e78-8fb5-f400606a3dcf"
      },
      "execution_count": null,
      "outputs": [
        {
          "output_type": "stream",
          "name": "stdout",
          "text": [
            "Top 5 athletes with the most gold medals:\n",
            "+-----+----------------------------------+----------------+\n",
            "|ID   |Name                              |gold_medal_count|\n",
            "+-----+----------------------------------+----------------+\n",
            "|94406|Michael Fred Phelps, II           |23              |\n",
            "|33557|\"Raymond Clarence \"\"Ray\"\" Ewry\"   |10              |\n",
            "|67046|Larysa Semenivna Latynina (Diriy-)|9               |\n",
            "|69210|\"Frederick Carlton \"\"Carl\"\" Lewis\"|9               |\n",
            "|87390|Paavo Johannes Nurmi              |9               |\n",
            "+-----+----------------------------------+----------------+\n",
            "\n"
          ]
        }
      ]
    },
    {
      "cell_type": "code",
      "source": [
        "Q 12 Fetch the top 5 athletes who have won the most medals (gold/silver/bronze)."
      ],
      "metadata": {
        "id": "JKCFsdOWuAFk"
      },
      "execution_count": null,
      "outputs": []
    },
    {
      "cell_type": "code",
      "source": [
        "from pyspark.sql.functions import col, count\n",
        "medalists_df = athlete_events_df.filter(col(\"Medal\").isNotNull() & (col(\"Medal\") != 'NA'))\n",
        "medal_counts_df = medalists_df.groupBy(\"ID\", \"Name\").agg(count(\"*\").alias(\"medal_count\"))\n",
        "top_5_medalists = medal_counts_df.orderBy(\"medal_count\", ascending=False).limit(5)\n",
        "print(\"Top 5 athletes with the most medals:\")\n",
        "top_5_medalists.show(truncate=False)"
      ],
      "metadata": {
        "colab": {
          "base_uri": "https://localhost:8080/"
        },
        "id": "K9UGzUopXYNQ",
        "outputId": "2ed8a474-db1d-4486-9d4e-f20c8ac52a78"
      },
      "execution_count": null,
      "outputs": [
        {
          "output_type": "stream",
          "name": "stdout",
          "text": [
            "Top 5 athletes with the most medals:\n",
            "+------+----------------------------------+-----------+\n",
            "|ID    |Name                              |medal_count|\n",
            "+------+----------------------------------+-----------+\n",
            "|94406 |Michael Fred Phelps, II           |28         |\n",
            "|67046 |Larysa Semenivna Latynina (Diriy-)|18         |\n",
            "|101914|\"William Henry \"\"Bill\"\" Roetzheim |16         |\n",
            "|4198  |Nikolay Yefimovich Andrianov      |15         |\n",
            "|11951 |Ole Einar Bjrndalen               |13         |\n",
            "+------+----------------------------------+-----------+\n",
            "\n"
          ]
        }
      ]
    },
    {
      "cell_type": "markdown",
      "source": [
        "Q 13 Fetch the top 5 most successful countries in olympics. Success is defined by no of medals\n",
        "won"
      ],
      "metadata": {
        "id": "QAXrMzFsuEHG"
      }
    },
    {
      "cell_type": "code",
      "source": [
        "from pyspark.sql.functions import col, count\n",
        "medalists_df = athlete_events_df.filter(col(\"Medal\").isNotNull() & (col(\"Medal\") != 'NA'))\n",
        "country_medal_counts_df = medalists_df.groupBy(\"NOC\").agg(count(\"*\").alias(\"medal_count\"))\n",
        "top_5_successful_countries = country_medal_counts_df.orderBy(\"medal_count\", ascending=False).limit(5)\n",
        "print(\"Top 5 most successful countries based on total medals:\")\n",
        "top_5_successful_countries.show(truncate=False)"
      ],
      "metadata": {
        "colab": {
          "base_uri": "https://localhost:8080/"
        },
        "id": "J_mYM6BuXrY-",
        "outputId": "9cec50a8-f029-4733-9666-4e71d8e7b91d"
      },
      "execution_count": null,
      "outputs": [
        {
          "output_type": "stream",
          "name": "stdout",
          "text": [
            "Top 5 most successful countries based on total medals:\n",
            "+---+-----------+\n",
            "|NOC|medal_count|\n",
            "+---+-----------+\n",
            "|USA|5437       |\n",
            "|URS|2502       |\n",
            "|GER|2162       |\n",
            "|GBR|2066       |\n",
            "|FRA|1777       |\n",
            "+---+-----------+\n",
            "\n"
          ]
        }
      ]
    },
    {
      "cell_type": "code",
      "source": [],
      "metadata": {
        "id": "o-8XgPkzuMt2"
      },
      "execution_count": null,
      "outputs": []
    },
    {
      "cell_type": "code",
      "metadata": {
        "colab": {
          "base_uri": "https://localhost:8080/"
        },
        "id": "ac16fdc7",
        "outputId": "e5217584-8730-4a9b-8832-fb9cd46b5ae6"
      },
      "source": [
        "top_5_successful_countries.write.parquet(\"/content/top_5_successful_countries.parquet\")\n",
        "\n",
        "print(\"DataFrame 'top_5_successful_countries' saved as Parquet file.\")"
      ],
      "execution_count": null,
      "outputs": [
        {
          "output_type": "stream",
          "name": "stdout",
          "text": [
            "DataFrame 'top_5_successful_countries' saved as Parquet file.\n"
          ]
        }
      ]
    },
    {
      "cell_type": "code",
      "source": [
        "top_5_medalists.write.parquet(\"/content/top_5_medalists.parquet\")\n",
        "\n",
        "print(\"DataFrame 'top_5_medalists' saved as Parquet file.\")"
      ],
      "metadata": {
        "colab": {
          "base_uri": "https://localhost:8080/"
        },
        "id": "SEswTJY8Yvbc",
        "outputId": "a043a2df-aa18-4528-98e3-19f28f649af2"
      },
      "execution_count": null,
      "outputs": [
        {
          "output_type": "stream",
          "name": "stdout",
          "text": [
            "DataFrame 'top_5_medalists' saved as Parquet file.\n"
          ]
        }
      ]
    },
    {
      "cell_type": "code",
      "source": [
        "nations_per_game_df.write.parquet(\"/content/nations_per_game.parquet\")\n",
        "\n",
        "print(\"DataFrame 'nations_per_game_df' saved as Parquet file.\")"
      ],
      "metadata": {
        "colab": {
          "base_uri": "https://localhost:8080/"
        },
        "id": "j5jtoog4ZFs0",
        "outputId": "69707246-c1ca-4f85-9d97-291ff11022e1"
      },
      "execution_count": null,
      "outputs": [
        {
          "output_type": "stream",
          "name": "stdout",
          "text": [
            "DataFrame 'nations_per_game_df' saved as Parquet file.\n"
          ]
        }
      ]
    },
    {
      "cell_type": "code",
      "source": [
        "sports_in_all_summer_games_df.write.parquet(\"/content/sports_in_all_summer_games.parquet\")\n",
        "\n",
        "print(\"DataFrame 'sports_in_all_summer_games_df' saved as Parquet file.\")"
      ],
      "metadata": {
        "colab": {
          "base_uri": "https://localhost:8080/"
        },
        "id": "D_C-7yS0ZZQy",
        "outputId": "1dfc74f7-fb3d-4ddf-f94b-a0568d353a23"
      },
      "execution_count": null,
      "outputs": [
        {
          "output_type": "stream",
          "name": "stdout",
          "text": [
            "DataFrame 'sports_in_all_summer_games_df' saved as Parquet file.\n"
          ]
        }
      ]
    },
    {
      "cell_type": "code",
      "source": [
        "top_5_gold_medalists.write.parquet(\"/content/top_5_gold_medalists.parquet\")\n",
        "\n",
        "print(\"DataFrame 'top_5_gold_medalists' saved as Parquet file.\")"
      ],
      "metadata": {
        "colab": {
          "base_uri": "https://localhost:8080/"
        },
        "id": "9hL1iSFYZoj6",
        "outputId": "90085c2f-9dcf-49c5-cba2-9c5b3a6a3524"
      },
      "execution_count": null,
      "outputs": [
        {
          "output_type": "stream",
          "name": "stdout",
          "text": [
            "DataFrame 'top_5_gold_medalists' saved as Parquet file.\n"
          ]
        }
      ]
    },
    {
      "cell_type": "markdown",
      "source": [
        "SPARK SQL"
      ],
      "metadata": {
        "id": "ej40LfHluUXY"
      }
    },
    {
      "cell_type": "markdown",
      "source": [],
      "metadata": {
        "id": "GObVu1q9uXUH"
      }
    },
    {
      "cell_type": "code",
      "metadata": {
        "id": "1da95687"
      },
      "source": [
        "athlete_events_df.createOrReplaceTempView(\"athlete_events\")"
      ],
      "execution_count": null,
      "outputs": []
    },
    {
      "cell_type": "markdown",
      "source": [
        "Q 14 List down total gold, silver and broze medals won by each country\n",
        "\n",
        "---\n",
        "\n"
      ],
      "metadata": {
        "id": "a2YRWSg-uWej"
      }
    },
    {
      "cell_type": "code",
      "metadata": {
        "colab": {
          "base_uri": "https://localhost:8080/"
        },
        "id": "51abb814",
        "outputId": "8259c296-d118-44ae-acef-e9fcbc3f0966"
      },
      "source": [
        "athlete_events_df.createOrReplaceTempView(\"athlete_events\")\n",
        "noc_regions_df.createOrReplaceTempView(\"noc_regions\")\n",
        "\n",
        "medal_counts_per_country_game_df = spark.sql(\"\"\"\n",
        "    SELECT\n",
        "        nr.region,\n",
        "        ae.Games,\n",
        "        SUM(CASE WHEN ae.Medal = 'Gold' THEN 1 ELSE 0 END) AS Gold,\n",
        "        SUM(CASE WHEN ae.Medal = 'Silver' THEN 1 ELSE 0 END) AS Silver,\n",
        "        SUM(CASE WHEN ae.Medal = 'Bronze' THEN 1 ELSE 0 END) AS Bronze\n",
        "    FROM\n",
        "        athlete_events ae\n",
        "    JOIN\n",
        "        noc_regions nr ON ae.NOC = nr.NOC\n",
        "    WHERE\n",
        "        ae.Medal IS NOT NULL AND ae.Medal != 'NA'\n",
        "    GROUP BY\n",
        "        nr.region, ae.Games\n",
        "    ORDER BY\n",
        "        nr.region, ae.Games\n",
        "\"\"\")\n",
        "\n",
        "print(\"Medal counts per country and Olympic game:\")\n",
        "medal_counts_per_country_game_df.show(truncate=False)"
      ],
      "execution_count": null,
      "outputs": [
        {
          "output_type": "stream",
          "name": "stdout",
          "text": [
            "Medal counts per country and Olympic game:\n",
            "+-----------+-----------+----+------+------+\n",
            "|region     |Games      |Gold|Silver|Bronze|\n",
            "+-----------+-----------+----+------+------+\n",
            "|Afghanistan|2008 Summer|0   |0     |1     |\n",
            "|Afghanistan|2012 Summer|0   |0     |1     |\n",
            "|Algeria    |1984 Summer|0   |0     |2     |\n",
            "|Algeria    |1992 Summer|1   |0     |1     |\n",
            "|Algeria    |1996 Summer|2   |0     |1     |\n",
            "|Algeria    |2000 Summer|1   |1     |3     |\n",
            "|Algeria    |2008 Summer|0   |1     |1     |\n",
            "|Algeria    |2012 Summer|1   |0     |0     |\n",
            "|Algeria    |2016 Summer|0   |2     |0     |\n",
            "|Argentina  |1924 Summer|5   |3     |2     |\n",
            "|Argentina  |1928 Summer|3   |18    |5     |\n",
            "|Argentina  |1932 Summer|3   |1     |0     |\n",
            "|Argentina  |1936 Summer|5   |2     |4     |\n",
            "|Argentina  |1948 Summer|3   |7     |1     |\n",
            "|Argentina  |1952 Summer|2   |2     |2     |\n",
            "|Argentina  |1956 Summer|0   |1     |1     |\n",
            "|Argentina  |1960 Summer|0   |3     |1     |\n",
            "|Argentina  |1964 Summer|0   |1     |0     |\n",
            "|Argentina  |1968 Summer|0   |0     |2     |\n",
            "|Argentina  |1972 Summer|0   |1     |0     |\n",
            "+-----------+-----------+----+------+------+\n",
            "only showing top 20 rows\n",
            "\n"
          ]
        }
      ]
    },
    {
      "cell_type": "markdown",
      "source": [
        "Q 15 List down total gold, silver and broze medals won by each country corresponding to each\n",
        "olympic games."
      ],
      "metadata": {
        "id": "XCP2o1neudpw"
      }
    },
    {
      "cell_type": "code",
      "source": [
        "athlete_events_df.createOrReplaceTempView(\"athlete_events\")\n",
        "noc_regions_df.createOrReplaceTempView(\"noc_regions\")\n",
        "\n",
        "medal_counts_per_country_game_sql_df = spark.sql(\"\"\"\n",
        "    SELECT\n",
        "        nr.region,\n",
        "        ae.Games,\n",
        "        SUM(CASE WHEN ae.Medal = 'Gold' THEN 1 ELSE 0 END) AS Gold,\n",
        "        SUM(CASE WHEN ae.Medal = 'Silver' THEN 1 ELSE 0 END) AS Silver,\n",
        "        SUM(CASE WHEN ae.Medal = 'Bronze' THEN 1 ELSE 0 END) AS Bronze\n",
        "    FROM\n",
        "        athlete_events ae\n",
        "    JOIN\n",
        "        noc_regions nr ON ae.NOC = nr.NOC\n",
        "    WHERE\n",
        "        ae.Medal IS NOT NULL AND ae.Medal != 'NA'\n",
        "    GROUP BY\n",
        "        nr.region, ae.Games\n",
        "    ORDER BY\n",
        "        nr.region, ae.Games\n",
        "\"\"\")\n",
        "\n",
        "print(\"Medal counts per country and Olympic game (Spark SQL):\")\n",
        "medal_counts_per_country_game_sql_df.show(truncate=False)"
      ],
      "metadata": {
        "colab": {
          "base_uri": "https://localhost:8080/"
        },
        "id": "EWytt5CHyXwj",
        "outputId": "02933f51-699d-4fee-dd3b-59bef1f6b4bc"
      },
      "execution_count": null,
      "outputs": [
        {
          "output_type": "stream",
          "name": "stdout",
          "text": [
            "Medal counts per country and Olympic game (Spark SQL):\n",
            "+-----------+-----------+----+------+------+\n",
            "|region     |Games      |Gold|Silver|Bronze|\n",
            "+-----------+-----------+----+------+------+\n",
            "|Afghanistan|2008 Summer|0   |0     |1     |\n",
            "|Afghanistan|2012 Summer|0   |0     |1     |\n",
            "|Algeria    |1984 Summer|0   |0     |2     |\n",
            "|Algeria    |1992 Summer|1   |0     |1     |\n",
            "|Algeria    |1996 Summer|2   |0     |1     |\n",
            "|Algeria    |2000 Summer|1   |1     |3     |\n",
            "|Algeria    |2008 Summer|0   |1     |1     |\n",
            "|Algeria    |2012 Summer|1   |0     |0     |\n",
            "|Algeria    |2016 Summer|0   |2     |0     |\n",
            "|Argentina  |1924 Summer|5   |3     |2     |\n",
            "|Argentina  |1928 Summer|3   |18    |5     |\n",
            "|Argentina  |1932 Summer|3   |1     |0     |\n",
            "|Argentina  |1936 Summer|5   |2     |4     |\n",
            "|Argentina  |1948 Summer|3   |7     |1     |\n",
            "|Argentina  |1952 Summer|2   |2     |2     |\n",
            "|Argentina  |1956 Summer|0   |1     |1     |\n",
            "|Argentina  |1960 Summer|0   |3     |1     |\n",
            "|Argentina  |1964 Summer|0   |1     |0     |\n",
            "|Argentina  |1968 Summer|0   |0     |2     |\n",
            "|Argentina  |1972 Summer|0   |1     |0     |\n",
            "+-----------+-----------+----+------+------+\n",
            "only showing top 20 rows\n",
            "\n"
          ]
        }
      ]
    },
    {
      "cell_type": "markdown",
      "source": [
        "Q 16 Identify which country won the most gold, most silver and most bronze medals in each\n",
        "olympic games"
      ],
      "metadata": {
        "id": "b538yjkSuhXN"
      }
    },
    {
      "cell_type": "code",
      "metadata": {
        "colab": {
          "base_uri": "https://localhost:8080/"
        },
        "id": "2ddf00b9",
        "outputId": "c9471f2f-fc24-4123-fbaa-7947c4d6d88a"
      },
      "source": [
        "from pyspark.sql.window import Window\n",
        "from pyspark.sql.functions import rank\n",
        "window_spec_gold = Window.partitionBy(\"Games\").orderBy(col(\"Gold\").desc())\n",
        "gold_ranked_df = medal_counts_per_country_game_df.withColumn(\"gold_rank\", rank().over(window_spec_gold))\n",
        "most_gold_per_game_df = gold_ranked_df.filter(col(\"gold_rank\") == 1).select(\"Games\", \"region\", \"Gold\")\n",
        "window_spec_silver = Window.partitionBy(\"Games\").orderBy(col(\"Silver\").desc())\n",
        "silver_ranked_df = medal_counts_per_country_game_df.withColumn(\"silver_rank\", rank().over(window_spec_silver))\n",
        "most_silver_per_game_df = silver_ranked_df.filter(col(\"silver_rank\") == 1).select(\"Games\", \"region\", \"Silver\")\n",
        "window_spec_bronze = Window.partitionBy(\"Games\").orderBy(col(\"Bronze\").desc())\n",
        "bronze_ranked_df = medal_counts_per_country_game_df.withColumn(\"bronze_rank\", rank().over(window_spec_bronze))\n",
        "most_bronze_per_game_df = bronze_ranked_df.filter(col(\"bronze_rank\") == 1).select(\"Games\", \"region\", \"Bronze\")\n",
        "combined_most_medals_df = most_gold_per_game_df.join(\n",
        "    most_silver_per_game_df.withColumnRenamed(\"region\", \"Silver_Region\").withColumnRenamed(\"Silver\", \"Most_Silver\"),\n",
        "    \"Games\",\n",
        "    \"outer\"\n",
        ").join(\n",
        "    most_bronze_per_game_df.withColumnRenamed(\"region\", \"Bronze_Region\").withColumnRenamed(\"Bronze\", \"Most_Bronze\"),\n",
        "    \"Games\",\n",
        "    \"outer\"\n",
        ").select(\n",
        "    col(\"Games\"),\n",
        "    col(\"region\").alias(\"Gold_Medal_Country\"),\n",
        "    col(\"Gold\").alias(\"Most_Gold\"),\n",
        "    col(\"Silver_Region\").alias(\"Silver_Medal_Country\"),\n",
        "    col(\"Most_Silver\"),\n",
        "    col(\"Bronze_Region\").alias(\"Bronze_Medal_Country\"),\n",
        "    col(\"Most_Bronze\")\n",
        ")\n",
        "combined_most_medals_df.orderBy(\"Games\").show(truncate=False)"
      ],
      "execution_count": null,
      "outputs": [
        {
          "output_type": "stream",
          "name": "stdout",
          "text": [
            "+-----------+------------------+---------+--------------------+-----------+--------------------+-----------+\n",
            "|Games      |Gold_Medal_Country|Most_Gold|Silver_Medal_Country|Most_Silver|Bronze_Medal_Country|Most_Bronze|\n",
            "+-----------+------------------+---------+--------------------+-----------+--------------------+-----------+\n",
            "|1896 Summer|Germany           |25       |Greece              |18         |Greece              |20         |\n",
            "|1900 Summer|UK                |59       |France              |101        |France              |82         |\n",
            "|1904 Summer|USA               |126      |USA                 |140        |USA                 |124        |\n",
            "|1906 Summer|Greece            |24       |Greece              |48         |Greece              |30         |\n",
            "|1908 Summer|UK                |146      |UK                  |131        |UK                  |90         |\n",
            "|1912 Summer|Sweden            |103      |UK                  |64         |UK                  |59         |\n",
            "|1920 Summer|USA               |106      |France              |71         |Belgium             |66         |\n",
            "|1924 Summer|USA               |92       |France              |51         |USA                 |48         |\n",
            "|1924 Winter|UK                |16       |USA                 |10         |UK                  |11         |\n",
            "|1928 Summer|USA               |46       |Netherlands         |29         |Germany             |41         |\n",
            "|1928 Winter|Canada            |12       |Sweden              |13         |Switzerland         |12         |\n",
            "|1932 Summer|USA               |75       |USA                 |45         |USA                 |57         |\n",
            "|1932 Winter|Canada            |14       |USA                 |19         |Germany             |14         |\n",
            "|1936 Summer|Germany           |92       |Germany             |70         |Germany             |61         |\n",
            "|1936 Winter|UK                |12       |Canada              |13         |USA                 |11         |\n",
            "|1948 Summer|USA               |80       |UK                  |42         |Netherlands         |32         |\n",
            "|1948 Summer|USA               |80       |UK                  |42         |USA                 |32         |\n",
            "|1948 Winter|Canada            |13       |Czech Republic      |17         |Switzerland         |19         |\n",
            "|1952 Summer|USA               |76       |Russia              |62         |Hungary             |32         |\n",
            "|1952 Winter|Canada            |16       |USA                 |22         |Sweden              |23         |\n",
            "+-----------+------------------+---------+--------------------+-----------+--------------------+-----------+\n",
            "only showing top 20 rows\n",
            "\n"
          ]
        }
      ]
    },
    {
      "cell_type": "markdown",
      "source": [
        "Q 17 Identify which country won the most gold, most silver, most bronze medals and the most\n",
        "medals in each olympic games."
      ],
      "metadata": {
        "id": "inCbI0r2u33b"
      }
    },
    {
      "cell_type": "code",
      "metadata": {
        "colab": {
          "base_uri": "https://localhost:8080/"
        },
        "id": "ea977bfd",
        "outputId": "9bc69115-9a3d-43a2-ad0c-c96600b74285"
      },
      "source": [
        "from pyspark.sql.functions import col\n",
        "\n",
        "athlete_events_df.createOrReplaceTempView(\"athlete_events\")\n",
        "noc_regions_df.createOrReplaceTempView(\"noc_regions\")\n",
        "\n",
        "combined_most_medals_sql_df = spark.sql(\"\"\"\n",
        "    WITH MedalCounts AS (\n",
        "        SELECT\n",
        "            nr.region,\n",
        "            ae.Games,\n",
        "            SUM(CASE WHEN ae.Medal = 'Gold' THEN 1 ELSE 0 END) AS Gold,\n",
        "            SUM(CASE WHEN ae.Medal = 'Silver' THEN 1 ELSE 0 END) AS Silver,\n",
        "            SUM(CASE WHEN ae.Medal = 'Bronze' THEN 1 ELSE 0 END) AS Bronze,\n",
        "            COUNT(ae.Medal) AS Total_Medals -- Count all non-null medals\n",
        "        FROM\n",
        "            athlete_events ae\n",
        "        JOIN\n",
        "            noc_regions nr ON ae.NOC = nr.NOC\n",
        "        WHERE\n",
        "            ae.Medal IS NOT NULL AND ae.Medal != 'NA'\n",
        "        GROUP BY\n",
        "            nr.region, ae.Games\n",
        "    ),\n",
        "    RankedMedals AS (\n",
        "        SELECT\n",
        "            region,\n",
        "            Games,\n",
        "            Gold,\n",
        "            Silver,\n",
        "            Bronze,\n",
        "            Total_Medals,\n",
        "            RANK() OVER (PARTITION BY Games ORDER BY Gold DESC) as gold_rank,\n",
        "            RANK() OVER (PARTITION BY Games ORDER BY Silver DESC) as silver_rank,\n",
        "            RANK() OVER (PARTITION BY Games ORDER BY Bronze DESC) as bronze_rank,\n",
        "            RANK() OVER (PARTITION BY Games ORDER BY Total_Medals DESC) as total_medal_rank\n",
        "        FROM\n",
        "            MedalCounts\n",
        "    )\n",
        "    SELECT\n",
        "        Games,\n",
        "        MAX(CASE WHEN gold_rank = 1 THEN region ELSE NULL END) AS Gold_Medal_Country,\n",
        "        MAX(CASE WHEN gold_rank = 1 THEN Gold ELSE NULL END) AS Most_Gold,\n",
        "        MAX(CASE WHEN silver_rank = 1 THEN region ELSE NULL END) AS Silver_Medal_Country,\n",
        "        MAX(CASE WHEN silver_rank = 1 THEN Silver ELSE NULL END) AS Most_Silver,\n",
        "        MAX(CASE WHEN bronze_rank = 1 THEN region ELSE NULL END) AS Bronze_Medal_Country,\n",
        "        MAX(CASE WHEN bronze_rank = 1 THEN Bronze ELSE NULL END) AS Most_Bronze,\n",
        "        MAX(CASE WHEN total_medal_rank = 1 THEN region ELSE NULL END) AS Total_Medal_Country,\n",
        "        MAX(CASE WHEN total_medal_rank = 1 THEN Total_Medals ELSE NULL END) AS Most_Total_Medals\n",
        "    FROM\n",
        "        RankedMedals\n",
        "    WHERE gold_rank = 1 OR silver_rank = 1 OR bronze_rank = 1 OR total_medal_rank = 1\n",
        "    GROUP BY\n",
        "        Games\n",
        "    ORDER BY\n",
        "        Games\n",
        "\"\"\")\n",
        "\n",
        "print(\"Country with the most gold, silver, bronze, and total medals in each Olympic game (Spark SQL):\")\n",
        "combined_most_medals_sql_df.show(truncate=False)"
      ],
      "execution_count": null,
      "outputs": [
        {
          "output_type": "stream",
          "name": "stdout",
          "text": [
            "Country with the most gold, silver, bronze, and total medals in each Olympic game (Spark SQL):\n",
            "+-----------+------------------+---------+--------------------+-----------+--------------------+-----------+-------------------+-----------------+\n",
            "|Games      |Gold_Medal_Country|Most_Gold|Silver_Medal_Country|Most_Silver|Bronze_Medal_Country|Most_Bronze|Total_Medal_Country|Most_Total_Medals|\n",
            "+-----------+------------------+---------+--------------------+-----------+--------------------+-----------+-------------------+-----------------+\n",
            "|1896 Summer|Germany           |25       |Greece              |18         |Greece              |20         |Greece             |48               |\n",
            "|1900 Summer|UK                |59       |France              |101        |France              |82         |France             |235              |\n",
            "|1904 Summer|USA               |126      |USA                 |140        |USA                 |124        |USA                |390              |\n",
            "|1906 Summer|Greece            |24       |Greece              |48         |Greece              |30         |Greece             |102              |\n",
            "|1908 Summer|UK                |146      |UK                  |131        |UK                  |90         |UK                 |367              |\n",
            "|1912 Summer|Sweden            |103      |UK                  |64         |UK                  |59         |Sweden             |190              |\n",
            "|1920 Summer|USA               |106      |France              |71         |Belgium             |66         |USA                |188              |\n",
            "|1924 Summer|USA               |92       |France              |51         |USA                 |48         |USA                |175              |\n",
            "|1924 Winter|UK                |16       |USA                 |10         |UK                  |11         |UK                 |31               |\n",
            "|1928 Summer|USA               |46       |Netherlands         |29         |Germany             |41         |USA                |85               |\n",
            "|1928 Winter|Canada            |12       |Sweden              |13         |Switzerland         |12         |Sweden             |16               |\n",
            "|1932 Summer|USA               |75       |USA                 |45         |USA                 |57         |USA                |177              |\n",
            "|1932 Winter|Canada            |14       |USA                 |19         |Germany             |14         |USA                |31               |\n",
            "|1936 Summer|Germany           |92       |Germany             |70         |Germany             |61         |Germany            |223              |\n",
            "|1936 Winter|UK                |12       |Canada              |13         |USA                 |11         |Norway             |18               |\n",
            "|1948 Summer|USA               |80       |UK                  |42         |USA                 |32         |USA                |141              |\n",
            "|1948 Winter|Canada            |13       |Czech Republic      |17         |Switzerland         |19         |Switzerland        |28               |\n",
            "|1952 Summer|USA               |76       |Russia              |62         |Hungary             |32         |USA                |124              |\n",
            "|1952 Winter|Canada            |16       |USA                 |22         |Sweden              |23         |USA                |27               |\n",
            "|1956 Summer|Russia            |68       |Russia              |46         |Russia              |55         |Russia             |169              |\n",
            "+-----------+------------------+---------+--------------------+-----------+--------------------+-----------+-------------------+-----------------+\n",
            "only showing top 20 rows\n",
            "\n"
          ]
        }
      ]
    },
    {
      "cell_type": "markdown",
      "source": [
        "Q 18)  Which countries have never won gold medal but have won silver/bronze medals?"
      ],
      "metadata": {
        "id": "Wf_r9f0OxcL4"
      }
    },
    {
      "cell_type": "code",
      "source": [
        "noc_regions_df.createOrReplaceTempView(\"noc_regions\")\n",
        "\n",
        "countries_no_gold_sql_df = spark.sql(\"\"\"\n",
        "    SELECT\n",
        "        nr.region,\n",
        "        SUM(CASE WHEN ae.Medal = 'Gold' THEN 1 ELSE 0 END) AS Gold,\n",
        "        SUM(CASE WHEN ae.Medal = 'Silver' THEN 1 ELSE 0 END) AS Silver,\n",
        "        SUM(CASE WHEN ae.Medal = 'Bronze' THEN 1 ELSE 0 END) AS Bronze\n",
        "    FROM\n",
        "        athlete_events ae\n",
        "    JOIN\n",
        "        noc_regions nr ON ae.NOC = nr.NOC\n",
        "    WHERE\n",
        "        ae.Medal IS NOT NULL AND ae.Medal != 'NA'\n",
        "    GROUP BY\n",
        "        nr.region\n",
        "    HAVING\n",
        "        SUM(CASE WHEN ae.Medal = 'Gold' THEN 1 ELSE 0 END) = 0 AND\n",
        "        (SUM(CASE WHEN ae.Medal = 'Silver' THEN 1 ELSE 0 END) > 0 OR SUM(CASE WHEN ae.Medal = 'Bronze' THEN 1 ELSE 0 END) > 0)\n",
        "    ORDER BY\n",
        "        nr.region\n",
        "\"\"\")\n",
        "\n",
        "print(\"Countries that have never won a gold medal but have won silver or bronze medals (Spark SQL):\")\n",
        "countries_no_gold_sql_df.show(truncate=False)"
      ],
      "metadata": {
        "colab": {
          "base_uri": "https://localhost:8080/"
        },
        "id": "UzGe4Uv_yjzJ",
        "outputId": "4de224f9-d522-4070-b195-cb803b5ab6fb"
      },
      "execution_count": null,
      "outputs": [
        {
          "output_type": "stream",
          "name": "stdout",
          "text": [
            "Countries that have never won a gold medal but have won silver or bronze medals (Spark SQL):\n",
            "+-----------+----+------+------+\n",
            "|region     |Gold|Silver|Bronze|\n",
            "+-----------+----+------+------+\n",
            "|Afghanistan|0   |0     |2     |\n",
            "|Barbados   |0   |0     |1     |\n",
            "|Bermuda    |0   |0     |1     |\n",
            "|Botswana   |0   |1     |0     |\n",
            "|Curacao    |0   |1     |0     |\n",
            "|Cyprus     |0   |1     |0     |\n",
            "|Djibouti   |0   |0     |1     |\n",
            "|Eritrea    |0   |0     |1     |\n",
            "|Gabon      |0   |1     |0     |\n",
            "|Ghana      |0   |1     |22    |\n",
            "|Guatemala  |0   |1     |0     |\n",
            "|Guyana     |0   |0     |1     |\n",
            "|Iceland    |0   |15    |2     |\n",
            "|Iraq       |0   |0     |1     |\n",
            "|Kuwait     |0   |0     |2     |\n",
            "|Kyrgyzstan |0   |1     |2     |\n",
            "|Lebanon    |0   |2     |2     |\n",
            "|Macedonia  |0   |0     |1     |\n",
            "|Malaysia   |0   |11    |5     |\n",
            "|Mauritius  |0   |0     |1     |\n",
            "+-----------+----+------+------+\n",
            "only showing top 20 rows\n",
            "\n"
          ]
        }
      ]
    },
    {
      "cell_type": "markdown",
      "source": [
        "Q 19)  In which Sport/event, India has won highest medals"
      ],
      "metadata": {
        "id": "hrOfnPMTysN1"
      }
    },
    {
      "cell_type": "code",
      "source": [
        "athlete_events_df.createOrReplaceTempView(\"athlete_events\")\n",
        "\n",
        "india_medal_counts_sql_df = spark.sql(\"\"\"\n",
        "    SELECT\n",
        "        Sport,\n",
        "        Event,\n",
        "        COUNT(Medal) AS medal_count\n",
        "    FROM\n",
        "        athlete_events\n",
        "    WHERE\n",
        "        NOC = 'IND' AND Medal IS NOT NULL AND Medal != 'NA'\n",
        "    GROUP BY\n",
        "        Sport,\n",
        "        Event\n",
        "    ORDER BY\n",
        "        medal_count DESC\n",
        "    LIMIT 1\n",
        "\"\"\")\n",
        "\n",
        "print(\"Sport/Event in which India has won the highest number of medals:\")\n",
        "india_medal_counts_sql_df.show(truncate=False)"
      ],
      "metadata": {
        "colab": {
          "base_uri": "https://localhost:8080/"
        },
        "id": "9vc2sbcJytky",
        "outputId": "7e64f3b7-5332-43b6-9c03-d4bf37df7706"
      },
      "execution_count": null,
      "outputs": [
        {
          "output_type": "stream",
          "name": "stdout",
          "text": [
            "Sport/Event in which India has won the highest number of medals:\n",
            "+------+-------------------+-----------+\n",
            "|Sport |Event              |medal_count|\n",
            "+------+-------------------+-----------+\n",
            "|Hockey|Hockey Men's Hockey|173        |\n",
            "+------+-------------------+-----------+\n",
            "\n"
          ]
        }
      ]
    },
    {
      "cell_type": "markdown",
      "source": [
        "Q 20) Break down all olympic games where india won medal for Hockey and how many medals in\n",
        "each olympic games."
      ],
      "metadata": {
        "id": "edJIttFiyw3b"
      }
    },
    {
      "cell_type": "code",
      "source": [
        "athlete_events_df.createOrReplaceTempView(\"athlete_events\")\n",
        "\n",
        "india_hockey_medals_sql_df = spark.sql(\"\"\"\n",
        "    SELECT\n",
        "        Games,\n",
        "        COUNT(Medal) AS medal_count\n",
        "    FROM\n",
        "        athlete_events\n",
        "    WHERE\n",
        "        NOC = 'IND' AND Sport = 'Hockey' AND Medal IS NOT NULL AND Medal != 'NA'\n",
        "    GROUP BY\n",
        "        Games\n",
        "    ORDER BY\n",
        "        Games\n",
        "\"\"\")\n",
        "\n",
        "print(\"India's Hockey medals in each Olympic game (Spark SQL):\")\n",
        "india_hockey_medals_sql_df.show(truncate=False)"
      ],
      "metadata": {
        "colab": {
          "base_uri": "https://localhost:8080/"
        },
        "id": "WDkXQeIMy3jg",
        "outputId": "bc4f26bf-47c4-4715-ca4b-7c76e10461d8"
      },
      "execution_count": null,
      "outputs": [
        {
          "output_type": "stream",
          "name": "stdout",
          "text": [
            "India's Hockey medals in each Olympic game (Spark SQL):\n",
            "+-----------+-----------+\n",
            "|Games      |medal_count|\n",
            "+-----------+-----------+\n",
            "|1928 Summer|14         |\n",
            "|1932 Summer|15         |\n",
            "|1936 Summer|19         |\n",
            "|1948 Summer|20         |\n",
            "|1952 Summer|14         |\n",
            "|1956 Summer|17         |\n",
            "|1960 Summer|13         |\n",
            "|1964 Summer|15         |\n",
            "|1968 Summer|16         |\n",
            "|1972 Summer|14         |\n",
            "|1980 Summer|16         |\n",
            "+-----------+-----------+\n",
            "\n"
          ]
        }
      ]
    }
  ]
}